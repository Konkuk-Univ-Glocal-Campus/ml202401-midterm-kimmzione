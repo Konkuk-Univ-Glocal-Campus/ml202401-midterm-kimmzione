{
 "cells": [
  {
   "cell_type": "code",
   "execution_count": null,
   "metadata": {},
   "outputs": [],
   "source": [
    "# 문제 정의 : 의료서비스 밀집 지역과 아닌 지역을 도출해 의료 시설이 충분히 제공되고 있는지 확인하고자 합니다.\n",
    "# 예상 결과 : 전라도와 강원도 지역이 인프라 밀집도가 낮아 의료 수요가 부족할 것으로 예상됩니다."
   ]
  },
  {
   "cell_type": "code",
   "execution_count": null,
   "metadata": {},
   "outputs": [],
   "source": [
    "# 데이터 선택 : 전국 병원정보 데이터"
   ]
  },
  {
   "cell_type": "code",
   "execution_count": 22,
   "metadata": {},
   "outputs": [
    {
     "name": "stdout",
     "output_type": "stream",
     "text": [
      "                                             암호화요양기호          요양기관명  종별코드  \\\n",
      "0  JDQ4MTYyMiM1MSMkMSMkMCMkODkkMzgxMzUxIzExIyQxIy...  가톨릭대학교 성빈센트병원     1   \n",
      "1  JDQ4MTYyMiM1MSMkMSMkMCMkODkkMzgxMzUxIzExIyQxIy...   가톨릭대학교인천성모병원     1   \n",
      "2  JDQ4MTYyMiM1MSMkMSMkNCMkODkkMzgxMzUxIzExIyQxIy...         강릉아산병원     1   \n",
      "3  JDQ4MTg4MSM1MSMkMSMkMCMkODkkMzgxMzUxIzExIyQxIy...         강북삼성병원     1   \n",
      "4  JDQ4MTg4MSM1MSMkMSMkMCMkODkkMzgxMzUxIzExIyQxIy...        건국대학교병원     1   \n",
      "\n",
      "  종별코드명    시도코드 시도코드명   시군구코드 시군구코드명  읍면동   우편번호  ... 치과인턴 인원수 치과레지던트 인원수  \\\n",
      "0  상급종합  310000    경기  310603  수원팔달구   지동  16247  ...        0          0   \n",
      "1  상급종합  220000    인천  220003  인천부평구  부평동  21431  ...        0          0   \n",
      "2  상급종합  320000    강원  320100    강릉시  사천면  25440  ...        0          0   \n",
      "3  상급종합  110000    서울  110016    종로구   평동  03181  ...        0          0   \n",
      "4  상급종합  110000    서울  110023    광진구  화양동  05030  ...        0          0   \n",
      "\n",
      "  치과전문의 인원수 한방일반의 인원수  한방인턴 인원수  한방레지던트 인원수  한방전문의 인원수  조산사 인원수       좌표(X)  \\\n",
      "0         7         0         0           0          0        0  127.027427   \n",
      "1         2         0         0           0          0        0  126.724899   \n",
      "2         2         0         0           0          0        0  128.857841   \n",
      "3         4         0         0           0          0        0  126.967750   \n",
      "4         2         0         0           0          0        0  127.071828   \n",
      "\n",
      "       좌표(Y)  \n",
      "0  37.277985  \n",
      "1  37.484831  \n",
      "2  37.818433  \n",
      "3  37.568408  \n",
      "4  37.540376  \n",
      "\n",
      "[5 rows x 30 columns]\n",
      "<class 'pandas.core.frame.DataFrame'>\n",
      "RangeIndex: 77444 entries, 0 to 77443\n",
      "Data columns (total 30 columns):\n",
      " #   Column      Non-Null Count  Dtype  \n",
      "---  ------      --------------  -----  \n",
      " 0   암호화요양기호     77444 non-null  object \n",
      " 1   요양기관명       77444 non-null  object \n",
      " 2   종별코드        77444 non-null  int64  \n",
      " 3   종별코드명       77444 non-null  object \n",
      " 4   시도코드        77444 non-null  int64  \n",
      " 5   시도코드명       77444 non-null  object \n",
      " 6   시군구코드       77444 non-null  int64  \n",
      " 7   시군구코드명      77444 non-null  object \n",
      " 8   읍면동         76931 non-null  object \n",
      " 9   우편번호        77360 non-null  object \n",
      " 10  주소          77444 non-null  object \n",
      " 11  전화번호        77013 non-null  object \n",
      " 12  병원홈페이지      8313 non-null   object \n",
      " 13  개설일자        77444 non-null  object \n",
      " 14  총의사수        77444 non-null  int64  \n",
      " 15  의과일반의 인원수   77444 non-null  int64  \n",
      " 16  의과인턴 인원수    77444 non-null  int64  \n",
      " 17  의과레지던트 인원수  77444 non-null  int64  \n",
      " 18  의과전문의 인원수   77444 non-null  int64  \n",
      " 19  치과일반의 인원수   77444 non-null  int64  \n",
      " 20  치과인턴 인원수    77444 non-null  int64  \n",
      " 21  치과레지던트 인원수  77444 non-null  int64  \n",
      " 22  치과전문의 인원수   77444 non-null  int64  \n",
      " 23  한방일반의 인원수   77444 non-null  int64  \n",
      " 24  한방인턴 인원수    77444 non-null  int64  \n",
      " 25  한방레지던트 인원수  77444 non-null  int64  \n",
      " 26  한방전문의 인원수   77444 non-null  int64  \n",
      " 27  조산사 인원수     77444 non-null  int64  \n",
      " 28  좌표(X)       76493 non-null  float64\n",
      " 29  좌표(Y)       76493 non-null  float64\n",
      "dtypes: float64(2), int64(17), object(11)\n",
      "memory usage: 17.7+ MB\n",
      "None\n"
     ]
    }
   ],
   "source": [
    "import pandas as pd\n",
    "import numpy as np\n",
    "import matplotlib.pyplot as plt\n",
    "from sklearn.cluster import KMeans\n",
    "from sklearn.metrics import silhouette_score\n",
    "from sklearn.preprocessing import StandardScaler\n",
    "\n",
    "\n",
    "# csv 파일을 로드합니다.\n",
    "hospital_data = pd.read_csv(\"1.병원정보서비스 2024.3.csv\")\n",
    "\n",
    "# 데이터 구조를 확인합니다.\n",
    "print(hospital_data.head())\n",
    "print(hospital_data.info())\n"
   ]
  },
  {
   "cell_type": "code",
   "execution_count": 23,
   "metadata": {},
   "outputs": [
    {
     "name": "stdout",
     "output_type": "stream",
     "text": [
      "         시도코드   시군구코드\n",
      "0      310000  310603\n",
      "1      220000  220003\n",
      "2      320000  320100\n",
      "3      110000  110016\n",
      "4      110000  110023\n",
      "...       ...     ...\n",
      "77439  340000  340700\n",
      "77440  110000  110014\n",
      "77441  250000  250004\n",
      "77442  380000  380500\n",
      "77443  220000  220005\n",
      "\n",
      "[77444 rows x 2 columns]\n"
     ]
    }
   ],
   "source": [
    "# 클러스터링에 사용할 변수를 선택합니다.\n",
    "hospital_data = hospital_data[['시도코드', '시군구코드']]\n",
    "print(hospital_data)"
   ]
  },
  {
   "cell_type": "code",
   "execution_count": 24,
   "metadata": {},
   "outputs": [
    {
     "name": "stdout",
     "output_type": "stream",
     "text": [
      "         시도코드   시군구코드\n",
      "23551  110000  110001\n",
      "74750  310000  312300\n",
      "56860  110000  110001\n",
      "43268  220000  220006\n",
      "41693  230000  230003\n",
      "...       ...     ...\n",
      "47120  310000  312300\n",
      "60626  230000  230200\n",
      "47865  310000  312500\n",
      "28206  310000  310403\n",
      "65337  340000  340012\n",
      "\n",
      "[10000 rows x 2 columns]\n"
     ]
    }
   ],
   "source": [
    "# 데이터 샘플링 / 데이터가 커서 원하는 샘플만큼만 학습합니다.\n",
    "sample_size = 10000  # 원하는 샘플 크기\n",
    "hospital_data = hospital_data.sample(n=sample_size, random_state=42)\n",
    "\n",
    "print(hospital_data)"
   ]
  },
  {
   "cell_type": "code",
   "execution_count": 25,
   "metadata": {},
   "outputs": [],
   "source": [
    "# 데이터 정규화를 합니다.\n",
    "scaler = StandardScaler()\n",
    "scaled_data = scaler.fit_transform(hospital_data[['시도코드', '시군구코드']])"
   ]
  },
  {
   "cell_type": "code",
   "execution_count": 26,
   "metadata": {},
   "outputs": [
    {
     "data": {
      "image/png": "[encoded data removed]",
      "text/plain": [
       "<Figure size 640x480 with 1 Axes>"
      ]
     },
     "metadata": {},
     "output_type": "display_data"
    }
   ],
   "source": [
    "# 엘보우 방법으로 최적의 클러스터 수 결정합니다.\n",
    "wcss = []\n",
    "for i in range(1, 11):\n",
    "    kmeans = KMeans(n_clusters=i, init='k-means++', random_state=42)\n",
    "    kmeans.fit(X)\n",
    "    wcss.append(kmeans.inertia_)\n",
    "\n",
    "# WCSS 그래프로 나타냅니다.\n",
    "plt.plot(range(1, 11), wcss)\n",
    "plt.title('The Elbow Method')\n",
    "plt.xlabel('Number of clusters')\n",
    "plt.ylabel('WCSS')\n",
    "plt.show()"
   ]
  },
  {
   "cell_type": "code",
   "execution_count": 27,
   "metadata": {},
   "outputs": [],
   "source": [
    "# 결정된 K 값으로 K-means 알고리즘을 초기화하고 클러스터링 수행합니다.\n",
    "k = 10  # 클러스터 수 결정\n",
    "kmeans = KMeans(n_clusters=k, init='k-means++', random_state=42)\n",
    "y_kmeans = kmeans.fit_predict(X)"
   ]
  },
  {
   "cell_type": "code",
   "execution_count": 28,
   "metadata": {},
   "outputs": [
    {
     "name": "stdout",
     "output_type": "stream",
     "text": [
      "클러스터 중심점:\n",
      "Cluster 1 Center: 354851.35135135136, 355096.87567567546\n",
      "Cluster 2 Center: 220000.0, 220007.56530214404\n",
      "Cluster 3 Center: 110000.0, 110011.40662526558\n",
      "Cluster 4 Center: 311006.3391442155, 312218.6299524562\n",
      "Cluster 5 Center: 253937.5, 253945.23958333334\n",
      "Cluster 6 Center: 383636.36363636365, 384072.002713704\n",
      "Cluster 7 Center: 335440.4945904173, 335653.5641421945\n",
      "Cluster 8 Center: 233573.20099255582, 233582.95285359782\n",
      "Cluster 9 Center: 210000.0, 210010.94729136143\n",
      "Cluster 10 Center: 370000.0, 370451.6989010987\n"
     ]
    }
   ],
   "source": [
    "# 각 클러스터의 중심점 분석합니다.\n",
    "# 클러스터1의 평균 중심점의 지역은 전북\n",
    "# 클러스터2의 평균 중심점의 지역은 인천\n",
    "# 클러스터3의 평균 중심점의 지역은 서울\n",
    "# 클러스터4의 평균 중심점의 지역은 경기\n",
    "# 클러스터5의 평균 중심점의 지역은 대전\n",
    "# 클러스터6의 평균 중심점의 지역은 경남\n",
    "# 클러스터7의 평균 중심점의 지역은 충북\n",
    "# 클러스터8의 평균 중심점의 지역은 대구\n",
    "# 클러스터9의 평균 중심점의 지역은 부산\n",
    "# 클러스터10의 평균 중심점의 지역은 경북\n",
    "centroids = kmeans.cluster_centers_\n",
    "print(\"클러스터 중심점:\")\n",
    "for i, centroid in enumerate(centroids):\n",
    "    print(f\"Cluster {i+1} Center: {centroid[0]}, {centroid[1]}\")\n"
   ]
  },
  {
   "cell_type": "code",
   "execution_count": 29,
   "metadata": {},
   "outputs": [
    {
     "data": {
      "image/png": "[encoded data removed]",
      "text/plain": [
       "<Figure size 640x480 with 1 Axes>"
      ]
     },
     "metadata": {},
     "output_type": "display_data"
    }
   ],
   "source": [
    "# 클러스터 시각화\n",
    "plt.scatter(X.iloc[:, 0], X.iloc[:, 1], c=y_kmeans, s=50, cmap='viridis')\n",
    "centers = kmeans.cluster_centers_\n",
    "plt.scatter(centers[:, 0], centers[:, 1], marker='x', c='red', s=100, alpha=0.5)\n",
    "plt.title('Clusters of Hospitals')\n",
    "plt.xlabel('Latitude')\n",
    "plt.ylabel('Longitude')\n",
    "plt.show()"
   ]
  },
  {
   "cell_type": "code",
   "execution_count": 30,
   "metadata": {},
   "outputs": [
    {
     "name": "stdout",
     "output_type": "stream",
     "text": [
      "Silhouette Score: 0.8459655214140874\n"
     ]
    }
   ],
   "source": [
    "# 평가: 실루엣 점수 계산\n",
    "# 실루엣 점수는 0.8로 클러스터가 잘 정의되고 분리되어 있는 것으로 생각됩니다.\n",
    "silhouette_avg = silhouette_score(X, y_kmeans)\n",
    "print(\"Silhouette Score:\", silhouette_avg)"
   ]
  },
  {
   "cell_type": "code",
   "execution_count": null,
   "metadata": {},
   "outputs": [],
   "source": [
    "# 최종 : 초기 예상은 전라도와 강원도 지역의 의료 인프라 밀집도가 낮을 것으로 예상했으나,\n",
    "# 실제 결과에서는 전북, 인천, 서울, 경기, 대전, 경남, 충북, 대구, 부산, 경북 지역이 의료서비스가 밀집된 지역으로 나타났습니다.\n",
    "# 강원, 세종, 제주, 광주, 울산, 충남은 의료서비스가 충분히 제공되지 않을 것으로 예상되며\n",
    "# 이를 통해 지역별 의료 서비스 제공 현황을 평가하고, 개선이 필요한 지역을 도출할 수 있습니다."
   ]
  }
 ],
 "metadata": {
  "kernelspec": {
   "display_name": "Python 3",
   "language": "python",
   "name": "python3"
  },
  "language_info": {
   "codemirror_mode": {
    "name": "ipython",
    "version": 3
   },
   "file_extension": ".py",
   "mimetype": "text/x-python",
   "name": "python",
   "nbconvert_exporter": "python",
   "pygments_lexer": "ipython3",
   "version": "3.10.13"
  }
 },
 "nbformat": 4,
 "nbformat_minor": 2
}
